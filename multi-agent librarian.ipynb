{
 "cells": [
  {
   "cell_type": "markdown",
   "id": "3cb8506b-1051-413f-9a78-632aedb1d853",
   "metadata": {},
   "source": [
    "This is a multi agent example in handling book borrow/ recommendation requests\n",
    "<br>\n",
    "<br>\n",
    "The system features: <br>\n",
    "a ChromaDB-powered recommendation agent for book suggestions <br>\n",
    "a MongoDB-backed operations agent handling borrowing transactions and status tracking <br>\n",
    "a membership management agent that processes new member registrations when non-members interact with the system."
   ]
  },
  {
   "cell_type": "code",
   "execution_count": 1,
   "id": "84621425-b3f4-4619-bc2d-d32ed3e21675",
   "metadata": {},
   "outputs": [],
   "source": [
    "import os\n",
    "from dotenv import load_dotenv\n",
    "load_dotenv()\n",
    "\n",
    "from langchain_openai import AzureChatOpenAI\n",
    "\n",
    "llm = AzureChatOpenAI(\n",
    "    model=os.environ[\"AZURE_DEPLOYMENT_NAME\"],\n",
    "    api_version=os.environ[\"AZURE_API_VERSION\"],\n",
    "    temperature=0,\n",
    "    model_name = \"gpt-4o\",\n",
    "    max_tokens=512,\n",
    "    timeout=None,\n",
    "    max_retries=2,\n",
    "    streaming = True,\n",
    "    tiktoken_model_name = \"gpt-4o\"\n",
    ")"
   ]
  },
  {
   "cell_type": "markdown",
   "id": "2d07c9bc-ca10-41c4-a5bd-72824f264811",
   "metadata": {},
   "source": [
    "## Setup Task Classifier"
   ]
  },
  {
   "cell_type": "code",
   "execution_count": 3,
   "id": "c79b8f76-014f-4936-8a53-44adff64bac4",
   "metadata": {},
   "outputs": [
    {
     "name": "stderr",
     "output_type": "stream",
     "text": [
      "C:\\Users\\Sam Cheng\\AppData\\Local\\Temp\\ipykernel_14044\\3857829403.py:62: LangChainDeprecationWarning: The method `BaseChatOpenAI.bind_functions` was deprecated in langchain-openai 0.2.1 and will be removed in 0.3.0. Use :meth:`~langchain_openai.chat_models.base.ChatOpenAI.bind_tools` instead.\n",
      "  | llm.bind_functions(functions=[function_def], function_call=\"route\")\n"
     ]
    }
   ],
   "source": [
    "from langchain.output_parsers.openai_functions import JsonOutputFunctionsParser\n",
    "from langchain_core.prompts import ChatPromptTemplate, MessagesPlaceholder\n",
    "from langgraph.graph import END, StateGraph, START\n",
    "from langchain_core.messages import HumanMessage, trim_messages, BaseMessage\n",
    "\n",
    "from typing import List\n",
    "\n",
    "trimmer = trim_messages(\n",
    "    max_tokens=10000,\n",
    "    strategy=\"last\",\n",
    "    token_counter=llm,\n",
    "    include_system=True,\n",
    ")\n",
    "\n",
    "\n",
    "def agent_node(state, agent, name):\n",
    "    result = agent.invoke(state)\n",
    "    return {\n",
    "        \"messages\": [HumanMessage(content=result[\"messages\"][-1].content, name=name)]\n",
    "    }\n",
    "\n",
    "\n",
    "def create_classifier(llm: AzureChatOpenAI, system_prompt, members) -> str:\n",
    "    \"\"\"An LLM-based router.\"\"\"\n",
    "    options = [\"FINISH\"] + members\n",
    "    function_def = {\n",
    "        \"name\": \"route\",\n",
    "        \"description\": \"Select the next role. And get the name of the person\",\n",
    "        \"parameters\": {\n",
    "            \"title\": \"routeSchema\",\n",
    "            \"type\": \"object\",\n",
    "            \"properties\": {\n",
    "                \"next\": {\n",
    "                    \"title\": \"Next\",\n",
    "                    \"anyOf\": [\n",
    "                        {\"enum\": options},\n",
    "                    ],\n",
    "                },\n",
    "            \"person\": {\n",
    "                    'type': 'string',\n",
    "                    'description': 'Name of the person'\n",
    "                }\n",
    "            },\n",
    "                \n",
    "            \"required\": [\"next\", \"person\"],\n",
    "        },\n",
    "    }\n",
    "    prompt = ChatPromptTemplate.from_messages(\n",
    "        [\n",
    "            (\"system\", system_prompt),\n",
    "            MessagesPlaceholder(variable_name=\"messages\"),\n",
    "            (\n",
    "                \"system\",\n",
    "                \"Given the conversation above, who should act next?\"\n",
    "                \" Or should we FINISH? Select one of: {options}\",\n",
    "            ),\n",
    "        ]\n",
    "    ).partial(options=str(options), team_members=\", \".join(members))\n",
    "    return (\n",
    "        prompt\n",
    "        | trimmer\n",
    "        | llm.bind_functions(functions=[function_def], function_call=\"route\")\n",
    "        | JsonOutputFunctionsParser()\n",
    "    )\n",
    "\n",
    "\n",
    "classifier_agent = create_classifier(\n",
    "    llm,\n",
    "    \"\"\"\n",
    "    You are a classifier tasked with managing a conversation between the\n",
    "    following workers:  Recommend, Operation. \n",
    "    The main duty of Recommend agent is to provide a short summary of a book requested by user.\n",
    "    While the main duties of Operation agent is to help users to borrow books\n",
    "    and provide users book borrowing status.\n",
    "    Given the following user request,\n",
    "    respond with the worker to act next. Each worker will perform a\n",
    "    task and respond with their results and status. When finished,\n",
    "    respond with FINISH.\n",
    "    \"\"\",\n",
    "    [\"Recommend\", \"Operation\"],\n",
    ")"
   ]
  },
  {
   "cell_type": "code",
   "execution_count": 5,
   "id": "eb5eab40-c77e-45bc-982d-77200ad779db",
   "metadata": {},
   "outputs": [
    {
     "data": {
      "text/plain": [
       "{'next': 'Operation', 'person': 'Sam'}"
      ]
     },
     "execution_count": 5,
     "metadata": {},
     "output_type": "execute_result"
    }
   ],
   "source": [
    "\"Test classifier agent\"\n",
    "classifier_agent.invoke({\"messages\": [(\"user\", \"I am Sam and I want to borrow the book Animal Farm\")]})"
   ]
  },
  {
   "cell_type": "markdown",
   "id": "5face736-c634-4be2-beeb-c0430f162659",
   "metadata": {},
   "source": [
    "## Define Function Tools for Workers"
   ]
  },
  {
   "cell_type": "code",
   "execution_count": 8,
   "id": "8fec5724-da35-4712-a7b7-dbb34ec080d0",
   "metadata": {},
   "outputs": [],
   "source": [
    "from langchain_core.tools import tool\n",
    "from pymongo import MongoClient\n",
    "from datetime import datetime, timedelta\n",
    "\n",
    "@tool\n",
    "def update_record(person: str, bookname: str, action: str) -> str:\n",
    "    \"\"\"\n",
    "    This is a funciton to update the borrowing status of books and person.\n",
    "    There are only two actions: ['borrow', 'return']\n",
    "    \"\"\"\n",
    "    client = MongoClient(host=\"localhost\", port=27017, username=os.environ[\"MONGO_USER\"], password=os.environ[\"MONGO_PASSWORD\"])\n",
    "    collection_books = client[\"Record\"][\"books\"]\n",
    "    collection_users = client[\"Record\"][\"users\"]\n",
    "    \n",
    "    if action == \"borrow\":\n",
    "        return_date = (datetime.now() + timedelta(days=14)).strftime(\"%d-%m-%Y\")\n",
    "    \n",
    "        collection_books.update_one(\n",
    "            {\"BookTitle\": bookname}, {\"$set\": {\"Status\": \"B\", \"ReturnDate\": return_date}}\n",
    "        )\n",
    "    \n",
    "        collection_users.update_one(\n",
    "            {\"Name\": person},\n",
    "            {\"$push\": {\"BorrowBooks\": {\"BookName\": bookname, \"ReturnDate\": return_date}}},\n",
    "        )\n",
    "        # client.close()\n",
    "        return (\n",
    "            f\"Hi {person}, {bookname} has been borrowed, the return date is {return_date}.\"\n",
    "        )\n",
    "    elif action == \"return\":\n",
    "        collection_books.update_one(\n",
    "            {\"BookTitle\": bookname}, {\"$set\": {\"Status\": \"A\", \"ReturnDate\": \"\"}}\n",
    "        )\n",
    "        collection_users.update_one(\n",
    "            {\"Name\": person},\n",
    "            {\"$pull\": {\"BorrowBooks\": {\"BookName\": bookname}}},\n",
    "        )\n",
    "        # client.close()\n",
    "        return (\n",
    "            f\"Hi {person}, you have sucessfully return the book {bookname}.\"\n",
    "            )\n",
    "    else:\n",
    "        return (f\"The {action} is not authorised.\")\n",
    "\n",
    "\n",
    "@tool\n",
    "def check_record(person: str) -> str:\n",
    "    \"\"\"\n",
    "    This is a function to extract information on the status of books borrowed by users.\n",
    "    \"\"\"\n",
    "    client = MongoClient(host=\"localhost\", port=27017, username=os.environ[\"MONGO_USER\"], password=os.environ[\"MONGO_PASSWORD\"])\n",
    "    collection_users = client[\"Record\"][\"users\"]\n",
    "\n",
    "    output = collection_users.find_one({\"Name\": person}, {\"BorrowBooks\": 1})\n",
    "\n",
    "    no_book = len(output[\"BorrowBooks\"])\n",
    "\n",
    "    if no_book > 0:\n",
    "        return f\"Hi {person}, you have borrowed a total {no_book} books.\"\n",
    "    else:\n",
    "        return f\"Hi {person}, you have not borrowed any books.\"\n",
    "\n",
    "@tool\n",
    "def add_member(person: str, decision: str) -> str:\n",
    "    \"\"\"\n",
    "    This is a function to add membership record base on the decision of a person.\n",
    "    The decision choice is either ['Yes', 'No']\n",
    "    \"\"\"\n",
    "    if decision == \"Yes\":\n",
    "        client = MongoClient(host=\"localhost\", port=27017, username=os.environ[\"MONGO_USER\"], password=os.environ[\"MONGO_PASSWORD\"])\n",
    "        collection_users = client[\"Record\"][\"users\"]\n",
    "    \n",
    "        collection_users.insert_one({\"Name\": person, \"BorrowBooks\": []})\n",
    "    \n",
    "        #client.close()\n",
    "        return f\"Hi {person}, welcome to be a member.\"\n",
    "    else:\n",
    "        return f\"Hi {person}, sorry that you cannot enjoy our service.\"\n",
    "    "
   ]
  },
  {
   "cell_type": "markdown",
   "id": "465d3785-df4b-44de-8203-a8b335fc72f2",
   "metadata": {},
   "source": [
    "## Defien Router function"
   ]
  },
  {
   "cell_type": "code",
   "execution_count": 10,
   "id": "3d9d2a8a-dec6-4210-9e6d-6b7b03f6a6db",
   "metadata": {},
   "outputs": [],
   "source": [
    "def check_membership(person: str) -> str:\n",
    "    \"\"\"\n",
    "    This is a function to check the existence of user in MongoDB.\n",
    "    \"\"\"\n",
    "    client = MongoClient(host=\"localhost\", port=27017, username=os.environ[\"MONGO_USER\"], password=os.environ[\"MONGO_PASSWORD\"])\n",
    "    collection_users = client[\"Record\"][\"users\"]\n",
    "\n",
    "    if collection_users.count_documents({\"Name\": person}) > 0:\n",
    "        return True\n",
    "    else:\n",
    "        return False\n",
    "\n",
    "def route_tools(state):\n",
    "    \"\"\"\n",
    "    This is a membership routing function\n",
    "    if the person is in the database, Simply return the current state.\n",
    "    Otherwise, the person does not have any membership yet. The return is 'add_member_node'.\n",
    "    \"\"\"\n",
    "    current_state = state[\"next\"]\n",
    "    if current_state == \"Operation\":\n",
    "        person = state[\"person\"]\n",
    "        if check_membership(person):\n",
    "            return current_state\n",
    "        else:\n",
    "            return \"AddMember\"\n",
    "    else:\n",
    "        return current_state"
   ]
  },
  {
   "cell_type": "markdown",
   "id": "6a0e2b91-4a24-415d-912b-882993b87fa3",
   "metadata": {},
   "source": [
    "## Setup Agent"
   ]
  },
  {
   "cell_type": "code",
   "execution_count": 12,
   "id": "4b1755cf-970a-4b10-bd51-4c278158bf92",
   "metadata": {},
   "outputs": [],
   "source": [
    "from typing import Annotated, Literal\n",
    "from typing_extensions import TypedDict\n",
    "import operator\n",
    "import functools\n",
    "from langgraph.prebuilt import create_react_agent\n",
    "from pydantic import BaseModel\n",
    "\n",
    "class WorkerState(TypedDict):\n",
    "    messages: Annotated[List[BaseMessage], operator.add]\n",
    "    next: str\n",
    "\n",
    "from langchain.prompts import PromptTemplate\n",
    "\n",
    "operation_agent = create_react_agent(\n",
    "    llm,\n",
    "    tools=[update_record, check_record],\n",
    ")\n",
    "\n",
    "operation_node = functools.partial(agent_node, agent=operation_agent, name=\"Operation\")"
   ]
  },
  {
   "cell_type": "code",
   "execution_count": 14,
   "id": "16000abf-1020-453b-8919-cb835cfe5c59",
   "metadata": {},
   "outputs": [],
   "source": [
    "class AddMemberRoute(BaseModel):\n",
    "    next: Literal[\"Yes\", \"No\"]\n",
    "    message: str\n",
    "\n",
    "add_member_prompt_str = \"\"\"You are an agent that analysis the willingless of a person to be a member.\n",
    "                           Given the following user query, \n",
    "                           extract the name and decision from the query, and pass the information to the provided tools.\n",
    "                           And route to next state based on the decision.\n",
    "                        \"\"\"\n",
    "\n",
    "add_member_prompt = ChatPromptTemplate.from_messages(\n",
    "        [\n",
    "            (\"system\", add_member_prompt_str),\n",
    "            MessagesPlaceholder(\"messages\")\n",
    "        ])\n",
    "\n",
    "add_member_agent = add_member_prompt | llm.bind_tools([add_member], tool_choice = \"add_member\").with_structured_output(AddMemberRoute)"
   ]
  },
  {
   "cell_type": "code",
   "execution_count": 16,
   "id": "c59a0058-91a3-4582-8eab-6c86e0a58cdb",
   "metadata": {
    "scrolled": true
   },
   "outputs": [],
   "source": [
    "\"Test Agent\"\n",
    "def print_stream(stream):\n",
    "    for s in stream:\n",
    "        message = s[\"messages\"][-1]\n",
    "        if isinstance(message, tuple):\n",
    "            print(message)\n",
    "        else:\n",
    "            message.pretty_print()"
   ]
  },
  {
   "cell_type": "code",
   "execution_count": 18,
   "id": "bfc5407e-adad-450c-bdd3-430181818aee",
   "metadata": {},
   "outputs": [
    {
     "name": "stdout",
     "output_type": "stream",
     "text": [
      "================================\u001b[1m Human Message \u001b[0m=================================\n",
      "\n",
      "I am Sam and I want to borrow the book Animal Farm\n",
      "==================================\u001b[1m Ai Message \u001b[0m==================================\n",
      "Tool Calls:\n",
      "  update_record (call_RHYxnOdUFtMvuBN6Ea8Xm7Jj)\n",
      " Call ID: call_RHYxnOdUFtMvuBN6Ea8Xm7Jj\n",
      "  Args:\n",
      "    person: Sam\n",
      "    bookname: Animal Farm\n",
      "    action: borrow\n",
      "=================================\u001b[1m Tool Message \u001b[0m=================================\n",
      "Name: update_record\n",
      "\n",
      "Hi Sam, Animal Farm has been borrowed, the return date is 07-12-2024.\n",
      "==================================\u001b[1m Ai Message \u001b[0m==================================\n",
      "\n",
      "Hi Sam, you have successfully borrowed \"Animal Farm\". The return date is 07-12-2024. Enjoy your reading!\n"
     ]
    }
   ],
   "source": [
    "\"Borrow test\"\n",
    "inputs = {\"messages\": [(\"user\", \"I am Sam and I want to borrow the book Animal Farm\")]}\n",
    "print_stream(operation_agent.stream(inputs, stream_mode=\"values\"))"
   ]
  },
  {
   "cell_type": "code",
   "execution_count": 20,
   "id": "a5f83b87",
   "metadata": {},
   "outputs": [
    {
     "name": "stdout",
     "output_type": "stream",
     "text": [
      "================================\u001b[1m Human Message \u001b[0m=================================\n",
      "\n",
      "I am Sam and I want to return the book Animal Farm\n",
      "==================================\u001b[1m Ai Message \u001b[0m==================================\n",
      "Tool Calls:\n",
      "  update_record (call_y2464nP68UiVygEkPxvUIwmN)\n",
      " Call ID: call_y2464nP68UiVygEkPxvUIwmN\n",
      "  Args:\n",
      "    person: Sam\n",
      "    bookname: Animal Farm\n",
      "    action: return\n",
      "=================================\u001b[1m Tool Message \u001b[0m=================================\n",
      "Name: update_record\n",
      "\n",
      "Hi Sam, you have sucessfully return the book Animal Farm.\n",
      "==================================\u001b[1m Ai Message \u001b[0m==================================\n",
      "\n",
      "Hi Sam, you have successfully returned the book \"Animal Farm.\" If you need any further assistance, feel free to ask!\n"
     ]
    }
   ],
   "source": [
    "\"Return test\"\n",
    "inputs = {\"messages\": [(\"user\", \"I am Sam and I want to return the book Animal Farm\")]}\n",
    "print_stream(operation_agent.stream(inputs, stream_mode=\"values\"))"
   ]
  },
  {
   "cell_type": "code",
   "execution_count": 22,
   "id": "e7a2ac84-251f-4ce7-9036-4d59954af6fc",
   "metadata": {},
   "outputs": [
    {
     "name": "stdout",
     "output_type": "stream",
     "text": [
      "================================\u001b[1m Human Message \u001b[0m=================================\n",
      "\n",
      "I am Catherine. I would like to know the status of the book I currently have borrowed.\n",
      "==================================\u001b[1m Ai Message \u001b[0m==================================\n",
      "Tool Calls:\n",
      "  check_record (call_8MBlSyA2vz3N8v7v3nOzrsPI)\n",
      " Call ID: call_8MBlSyA2vz3N8v7v3nOzrsPI\n",
      "  Args:\n",
      "    person: Catherine\n",
      "=================================\u001b[1m Tool Message \u001b[0m=================================\n",
      "Name: check_record\n",
      "\n",
      "Hi Catherine, you have not borrowed any books.\n",
      "==================================\u001b[1m Ai Message \u001b[0m==================================\n",
      "\n",
      "Hi Catherine, it appears that you have not borrowed any books.\n"
     ]
    }
   ],
   "source": [
    "\"check record test\"\n",
    "inputs = {\"messages\": [(\"user\", \"I am Catherine. I would like to know the status of the book I currently have borrowed.\")]}\n",
    "print_stream(operation_agent.stream(inputs, stream_mode=\"values\"))"
   ]
  },
  {
   "cell_type": "code",
   "execution_count": 24,
   "id": "28257384-eb7c-48e7-9c6b-c7bd2f16aca7",
   "metadata": {},
   "outputs": [
    {
     "data": {
      "text/plain": [
       "AddMemberRoute(next='Yes', message='Ken is willing to join.')"
      ]
     },
     "execution_count": 24,
     "metadata": {},
     "output_type": "execute_result"
    }
   ],
   "source": [
    "\"Test Add Member function\"\n",
    "add_member_agent.invoke({\"messages\": [HumanMessage(\"I am Ken and I am willing to join.\")]})"
   ]
  },
  {
   "cell_type": "markdown",
   "id": "a9215748-a893-43d6-8445-effc2317e1ce",
   "metadata": {},
   "source": [
    "## Load Persistence Chroma VectorStore"
   ]
  },
  {
   "cell_type": "code",
   "execution_count": 26,
   "id": "fc7ccc46-3bb6-4920-a54e-7ca5534a701c",
   "metadata": {},
   "outputs": [],
   "source": [
    "from langchain.embeddings import HuggingFaceBgeEmbeddings\n",
    "\n",
    "embeddings = HuggingFaceBgeEmbeddings(\n",
    "    model_name=\"BAAI/bge-large-en-v1.5\",\n",
    "    model_kwargs={\"device\": \"cpu\"},\n",
    "    encode_kwargs={\"normalize_embeddings\": True},\n",
    ")\n",
    "\n",
    "from langchain_chroma import Chroma\n",
    "\n",
    "vector_store = Chroma(\n",
    "    collection_name=\"Books\",\n",
    "    embedding_function=embeddings,\n",
    "    persist_directory=os.environ[\"CHROMA_PRESISTENCE_DIRECTORY\"],\n",
    ")"
   ]
  },
  {
   "cell_type": "markdown",
   "id": "e69a50ee-903b-45de-9217-aa734b510b2a",
   "metadata": {},
   "source": [
    "## Setup Self-query Retriever"
   ]
  },
  {
   "cell_type": "code",
   "execution_count": 28,
   "id": "95ef668e-9532-4855-826f-fdd225e48f7e",
   "metadata": {},
   "outputs": [],
   "source": [
    "from langchain.chains.query_constructor.base import AttributeInfo\n",
    "from langchain.retrievers.self_query.base import SelfQueryRetriever\n",
    "\n",
    "metadata_field_info = [\n",
    "    AttributeInfo(\n",
    "        name=\"Book category\",\n",
    "        description=\"The genre of the book\",\n",
    "        type=\"string\",\n",
    "    ),\n",
    "    AttributeInfo(\n",
    "        name=\"source\",\n",
    "        description=\"Name of the book\",\n",
    "        type=\"string\",\n",
    "    ),\n",
    "]\n",
    "\n",
    "document_content_description = \"Metadata of a book, including book title and category.\"\n",
    "\n",
    "self_retriever = SelfQueryRetriever.from_llm(\n",
    "    llm,\n",
    "    vector_store,\n",
    "    document_content_description,\n",
    "    metadata_field_info,\n",
    "    search_type=\"similarity\",\n",
    "    search_kwargs={\"k\": 1},\n",
    ")"
   ]
  },
  {
   "cell_type": "markdown",
   "id": "5b3e4a85-ba8e-41f3-bb43-440e07bd560d",
   "metadata": {},
   "source": [
    "## Setup RAG Agent"
   ]
  },
  {
   "cell_type": "code",
   "execution_count": 30,
   "id": "4361c575-6f1e-40a1-8ee6-20d049461ece",
   "metadata": {},
   "outputs": [],
   "source": [
    "from langchain.chains import RetrievalQA\n",
    "from langchain.prompts import PromptTemplate\n",
    "\n",
    "rag_system_message = \"\"\"\n",
    "You are a book recommendation AI assistant.\n",
    "Use the following pieces of retrieved context to answer the question.\n",
    "If you don't know the answer, just say that you don't know. \n",
    "You should provide a brief summary of the book that you recommend.\n",
    "Question: {question}\n",
    "Context: {context}\n",
    "Answer:\n",
    "\"\"\"\n",
    "\n",
    "rag_prompt = ChatPromptTemplate(\n",
    "    messages=[\n",
    "        (\"system\", rag_system_message),\n",
    "    ],\n",
    "    input_variables=[\"context\", \"question\"],\n",
    ")\n",
    "\n",
    "qa = RetrievalQA.from_chain_type(\n",
    "    llm=llm,\n",
    "    chain_type=\"stuff\",\n",
    "    retriever=self_retriever,\n",
    "    verbose=False,\n",
    "    return_source_documents=True,\n",
    "    chain_type_kwargs={\"prompt\": rag_prompt},\n",
    ")\n",
    "\n",
    "def recommend_node(state):\n",
    "    question = state[\"messages\"][0].content\n",
    "    # Retrieval\n",
    "    response = qa.invoke(question)\n",
    "    return {\"messages\": [response[\"result\"]]}"
   ]
  },
  {
   "cell_type": "code",
   "execution_count": 32,
   "id": "1677b0c0-1283-4687-99ce-6d48be93875c",
   "metadata": {},
   "outputs": [
    {
     "name": "stdout",
     "output_type": "stream",
     "text": [
      "I recommend the novel \"The Three Stigmata of Palmer Eldritch\" by Philip K. Dick. This science fiction story is set in a future world where global warming has made Earth nearly uninhabitable, and the UN is drafting people to colonize other planets. The colonists use an illegal drug called CAN-D to escape their harsh reality through shared hallucinations. The plot thickens when a new, more addictive drug called Chew-Z is introduced by the mysterious Palmer Eldritch, leading to a complex and mind-bending struggle involving corporate espionage, precognition, and questions about the nature of reality and divinity. The novel explores themes of escapism, identity, and the human condition in a dystopian future.\n"
     ]
    }
   ],
   "source": [
    "\"Test RAG Agent\"\n",
    "\n",
    "query = \"Just recommend me a novel.\"\n",
    "results = qa.invoke({\"query\": query})\n",
    "print(results[\"result\"])"
   ]
  },
  {
   "cell_type": "markdown",
   "id": "48eea662-f925-4bba-b71b-ac4bf076f963",
   "metadata": {},
   "source": [
    "## Setup Memory"
   ]
  },
  {
   "cell_type": "code",
   "execution_count": 34,
   "id": "ff4a3176-41fb-4c21-b97d-70d8bd3db717",
   "metadata": {},
   "outputs": [],
   "source": [
    "from langgraph.checkpoint.memory import MemorySaver\n",
    "\n",
    "memory = MemorySaver()"
   ]
  },
  {
   "cell_type": "markdown",
   "id": "fe1f32ea-5e24-4e82-affd-a89c1c7c3433",
   "metadata": {},
   "source": [
    "## Construct Graph"
   ]
  },
  {
   "cell_type": "code",
   "execution_count": 36,
   "id": "7503b4ff-55ed-4b46-9fe7-598c18d09a8f",
   "metadata": {},
   "outputs": [],
   "source": [
    "operation_graph = StateGraph(WorkerState)\n",
    "operation_graph.add_node(\"Recommend Node\", recommend_node)\n",
    "operation_graph.add_node(\"Operation Node\", operation_node)\n",
    "operation_graph.add_node(\"Classifier Node\", classifier_agent)\n",
    "operation_graph.add_node(\"Add Member Node\", add_member_agent)\n",
    "\n",
    "operation_graph.add_edge(START, \"Classifier Node\")\n",
    "\n",
    "operation_graph.add_edge(\"Operation Node\", END)\n",
    "operation_graph.add_edge(\"Recommend Node\", END)\n",
    "\n",
    "operation_graph.add_conditional_edges(\n",
    "    \"Add Member Node\",\n",
    "    lambda x: x[\"next\"],\n",
    "    {\"Yes\": \"Operation Node\",\"No\": END})\n",
    "\n",
    "operation_graph.add_conditional_edges(\n",
    "    \"Classifier Node\",\n",
    "    route_tools,\n",
    "    {\"Operation\": \"Operation Node\",\"Recommend\": \"Recommend Node\", \"AddMember\": \"Add Member Node\", \"FINISH\": END})\n",
    "\n",
    "\n",
    "app = operation_graph.compile(checkpointer = memory, interrupt_before=[\"Add Member Node\"])"
   ]
  },
  {
   "cell_type": "code",
   "execution_count": 38,
   "id": "bb180b08-2c25-441b-81be-d6b829a72d8e",
   "metadata": {
    "scrolled": true
   },
   "outputs": [
    {
     "data": {
      "image/jpeg": "[encoded data removed]",
      "text/plain": [
       "<IPython.core.display.Image object>"
      ]
     },
     "metadata": {},
     "output_type": "display_data"
    }
   ],
   "source": [
    "from IPython.display import Image, display\n",
    "\n",
    "display(Image(app.get_graph(xray=False).draw_mermaid_png()))"
   ]
  },
  {
   "cell_type": "markdown",
   "id": "b1a0286e-1f3e-4fa9-8511-9cc83c0bfee6",
   "metadata": {},
   "source": [
    "## Integration Test"
   ]
  },
  {
   "cell_type": "code",
   "execution_count": 46,
   "id": "625662a1-bc74-49c1-b946-c1f83420c6fb",
   "metadata": {},
   "outputs": [],
   "source": [
    "def ParseMessage(s : dict) -> str:\n",
    "    for key, value in s.items():\n",
    "        if key == \"__interrupt__\":\n",
    "            print(\"As you are not the member yet, Are you wailling to join?\")            \n",
    "        elif list(value.keys())[0] == \"messages\":\n",
    "            try:\n",
    "                message = value[\"messages\"][-1].content\n",
    "            except:\n",
    "                message = value[\"messages\"][-1]\n",
    "            print(message)\n",
    "\n",
    "        elif value[\"next\"] == \"No\":\n",
    "            print(\"Bye, see you next time.\")"
   ]
  },
  {
   "cell_type": "code",
   "execution_count": 48,
   "id": "d56c0b1c-8f49-48c5-89dd-1dab7a478b50",
   "metadata": {},
   "outputs": [
    {
     "name": "stdout",
     "output_type": "stream",
     "text": [
      "---\n",
      "I recommend \"The Adventures of Huckleberry Finn\" by Mark Twain. This classic adventure novel follows the journey of a young boy named Huck Finn as he escapes from his abusive father and travels down the Mississippi River. Along the way, he encounters various characters and faces numerous challenges, including helping a runaway slave named Jim. The novel explores themes of freedom, friendship, and the moral dilemmas of the time, making it a compelling and thought-provoking read.\n",
      "---\n"
     ]
    }
   ],
   "source": [
    "\"Recommend Test\"\n",
    "\n",
    "config = {\"configurable\": {\"thread_id\": \"1\", \"recursion_limit\": 5}}\n",
    "\n",
    "for s in app.stream({\"messages\": [HumanMessage(content = \"I would like to read an Adventure novel. Can you recommend a book to me?\")],}, \n",
    "    config\n",
    "):\n",
    "    if \"__end__\" not in s:\n",
    "        ParseMessage(s)\n",
    "        print(\"---\")"
   ]
  },
  {
   "cell_type": "code",
   "execution_count": 50,
   "id": "1c9e66ce-405d-4ef7-ade6-be68820505bc",
   "metadata": {},
   "outputs": [
    {
     "name": "stdout",
     "output_type": "stream",
     "text": [
      "---\n",
      "Hi Catherine, you have successfully borrowed \"The Adventures of Huckleberry Finn\". The return date is 07-12-2024. Enjoy your reading!\n",
      "---\n"
     ]
    }
   ],
   "source": [
    "\"Update Borrowing Record Test\"\n",
    "\n",
    "config = {\"configurable\": {\"thread_id\": \"2\", \"recursion_limit\": 5}}\n",
    "\n",
    "for s in app.stream({\"messages\": [HumanMessage(content = \"I am Catherine and I want to borrow the book 'The Adventures of Huckleberry Finn'.\")],},\n",
    "    config,\n",
    "):\n",
    "    if \"__end__\" not in s:\n",
    "        ParseMessage(s)\n",
    "        print(\"---\")"
   ]
  },
  {
   "cell_type": "code",
   "execution_count": 52,
   "id": "930aab91-13b9-45fd-83a6-64b435cfb3e6",
   "metadata": {},
   "outputs": [
    {
     "name": "stdout",
     "output_type": "stream",
     "text": [
      "---\n",
      "As you are not the member yet, Are you wailling to join?\n",
      "---\n"
     ]
    }
   ],
   "source": [
    "\"Add memeber test\"\n",
    "\n",
    "config = {\"configurable\": {\"thread_id\": \"3\", \"recursion_limit\": 5}}\n",
    "\n",
    "for s in app.stream({\"messages\": [HumanMessage(content = \"I am Desmond and I want to borrow the book 'The Adventures of Huckleberry Finn'.\")],},\n",
    "    config,\n",
    "):\n",
    "    if \"__end__\" not in s:\n",
    "        ParseMessage(s)\n",
    "        print(\"---\")"
   ]
  },
  {
   "cell_type": "code",
   "execution_count": 54,
   "id": "4feb6777-18c8-4df2-a294-9a8e1d44ea50",
   "metadata": {},
   "outputs": [
    {
     "data": {
      "text/plain": [
       "{'configurable': {'thread_id': '3',\n",
       "  'checkpoint_ns': '',\n",
       "  'checkpoint_id': '1efa94f3-25e3-6283-8002-30a7c1ec2765'}}"
      ]
     },
     "execution_count": 54,
     "metadata": {},
     "output_type": "execute_result"
    }
   ],
   "source": [
    "app.update_state(\n",
    "    config,\n",
    "    {\"messages\": [HumanMessage(content = \"I am willing to join\")], \"next\": \"AddMember\"},\n",
    "    as_node = \"Classifier Node\"\n",
    ")"
   ]
  },
  {
   "cell_type": "code",
   "execution_count": 56,
   "id": "41db7074-c5d2-4e47-acef-f07afd107c10",
   "metadata": {},
   "outputs": [
    {
     "name": "stdout",
     "output_type": "stream",
     "text": [
      "---\n",
      "Hi Desmond, you have successfully borrowed \"The Adventures of Huckleberry Finn\". The return date is 07-12-2024. Enjoy your reading!\n",
      "---\n"
     ]
    }
   ],
   "source": [
    "config = {\"configurable\": {\"thread_id\": \"3\", \"recursion_limit\": 5}}\n",
    "\n",
    "for s in app.stream(\n",
    "    None ,\n",
    "    config,\n",
    "):\n",
    "    if \"__end__\" not in s:\n",
    "        ParseMessage(s)\n",
    "        print(\"---\")"
   ]
  },
  {
   "cell_type": "code",
   "execution_count": 58,
   "id": "81538c96-99ff-4805-8bc3-1e6b4b686034",
   "metadata": {},
   "outputs": [
    {
     "name": "stdout",
     "output_type": "stream",
     "text": [
      "---\n",
      "Hi Catherine, you have borrowed a total of 1 book.\n",
      "---\n"
     ]
    }
   ],
   "source": [
    "\"Test Summary function\"\n",
    "\n",
    "config = {\"configurable\": {\"thread_id\": \"4\", \"recursion_limit\": 5}}\n",
    "\n",
    "for s in app.stream(\n",
    "    ({\"messages\": [HumanMessage(content = \"I am Catherine. I want to check my borrow record'.\")],}),\n",
    "    config,\n",
    "):\n",
    "    if \"__end__\" not in s:\n",
    "        ParseMessage(s)\n",
    "        print(\"---\")"
   ]
  },
  {
   "cell_type": "code",
   "execution_count": null,
   "id": "ffcf7d9a-2b3e-4970-bad1-1e402eaf55c5",
   "metadata": {},
   "outputs": [],
   "source": []
  }
 ],
 "metadata": {
  "kernelspec": {
   "display_name": "Python 3 (ipykernel)",
   "language": "python",
   "name": "python3"
  },
  "language_info": {
   "codemirror_mode": {
    "name": "ipython",
    "version": 3
   },
   "file_extension": ".py",
   "mimetype": "text/x-python",
   "name": "python",
   "nbconvert_exporter": "python",
   "pygments_lexer": "ipython3",
   "version": "3.11.7"
  }
 },
 "nbformat": 4,
 "nbformat_minor": 5
}
